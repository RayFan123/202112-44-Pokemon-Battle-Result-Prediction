{
 "cells": [
  {
   "cell_type": "code",
   "execution_count": null,
   "id": "f2c4e71b-9268-4fad-b6d8-7f95d979d397",
   "metadata": {},
   "outputs": [],
   "source": [
    "%reset -f"
   ]
  },
  {
   "cell_type": "code",
   "execution_count": null,
   "id": "58be1e3e-c536-4dd4-aaca-14bf29ee4f5a",
   "metadata": {},
   "outputs": [],
   "source": [
    "import pandas as pd\n",
    "import numpy as np"
   ]
  },
  {
   "cell_type": "code",
   "execution_count": null,
   "id": "4168f26c-8b05-4b56-bd15-95daed76a86e",
   "metadata": {},
   "outputs": [],
   "source": [
    "pokemon_stat = pd.read_csv('pokemon_use.csv',index_col=0)\n",
    "adv = pd.read_csv('advantage.csv',index_col=0)\n",
    "combats=pd.read_csv('combats.csv')"
   ]
  },
  {
   "cell_type": "code",
   "execution_count": null,
   "id": "146b1bf4-664b-49b2-96dc-2868ddf86a08",
   "metadata": {},
   "outputs": [],
   "source": [
    "# pokemon_stat.head()\n",
    "# combats.head()"
   ]
  },
  {
   "cell_type": "code",
   "execution_count": null,
   "id": "0231a2ad-6499-4a52-ac0f-444aeb627a9b",
   "metadata": {},
   "outputs": [],
   "source": [
    "# new_combat_data contains the name of pokemons\n",
    "cols = [\"First_pokemon\",\"Second_pokemon\",\"Winner\"]\n",
    "new_combat_data=combats[cols].replace(pokemon_stat.Name)\n",
    "# new_combat_data.head()"
   ]
  },
  {
   "cell_type": "code",
   "execution_count": null,
   "id": "22d004d0-677e-4f07-a8fa-663920e7b1a5",
   "metadata": {},
   "outputs": [],
   "source": [
    "# Change combats dataframe to: First win 0, Second win 1\n",
    "combats.Winner[combats.Winner == combats.First_pokemon] = 0\n",
    "combats.Winner[combats.Winner == combats.Second_pokemon] = 1\n",
    "# combats"
   ]
  },
  {
   "cell_type": "code",
   "execution_count": null,
   "id": "2bf03dff-faa7-487f-a6f7-3c438c9d3726",
   "metadata": {},
   "outputs": [],
   "source": [
    "def preprocess(pokemon_stat, combats):\n",
    "    stats=[\"HP\",\"Attack\",\"Defense\",\"Sp. Atk\",\"Sp. Def\",\"Speed\",\"Legendary\",\"Type 1\"]\n",
    "    stats1=[\"HP1\",\"Attack1\",\"Defense1\",\"Sp. Atk1\",\"Sp. Def1\",\"Speed1\",\"Legendary1\",\"Type 1\"]\n",
    "    stats2=[\"HP2\",\"Attack2\",\"Defense2\",\"Sp. Atk2\",\"Sp. Def2\",\"Speed2\",\"Legendary2\",\"Type 2\"]\n",
    "    stats_combined = stats1 + stats2\n",
    "    final_stats = [\"HP\",\"Attack\",\"Defense\",\"Sp. Atk\",\"Sp. Def\",\"Speed\",\"Legendary\"]\n",
    "    \n",
    "    temp_list=[]\n",
    "    adv_test_list=[]\n",
    "    \n",
    "    stats_df=pokemon_stat[stats].T.to_dict(\"list\")\n",
    "    one=combats.First_pokemon.map(stats_df)\n",
    "    two=combats.Second_pokemon.map(stats_df)\n",
    "    \n",
    "    for i in range(len(one)):\n",
    "        first = np.array(one[i][0:7])\n",
    "        second = np.array(two[i][0:7])\n",
    "        type1 = one[i][7]\n",
    "        type2 = two[i][7]\n",
    "\n",
    "        adv_coefficient = adv.loc[type1,type2]\n",
    "        # adv_coefficient = adv.loc[(one.iloc[i])[7],(two.iloc[i])[7]]\n",
    "        adv_test_list.append(adv_coefficient)\n",
    "\n",
    "        first[1] = first[1] * adv_coefficient\n",
    "        first[3] = first[3] * adv_coefficient\n",
    "        # temp_list.append((first.tolist()+second.tolist()))\n",
    "        \n",
    "        # Calculate the difference\n",
    "        temp_list.append(((first-second).tolist()))\n",
    "\n",
    "    final_test = pd.DataFrame(temp_list, columns=final_stats)\n",
    "    # print(new_test)\n",
    "\n",
    "    return final_test"
   ]
  },
  {
   "cell_type": "code",
   "execution_count": null,
   "id": "a1d75c86-170c-41b4-a248-12c3399f1c8f",
   "metadata": {},
   "outputs": [],
   "source": [
    "data = preprocess(pokemon_stat, combats)\n",
    "# data.to_csv('processed_data.csv')"
   ]
  },
  {
   "cell_type": "code",
   "execution_count": null,
   "id": "6236c364-6d01-46d0-87ae-2f80934a06ac",
   "metadata": {},
   "outputs": [],
   "source": [
    "data = pd.concat([data,combats.Winner], axis=1)"
   ]
  },
  {
   "cell_type": "code",
   "execution_count": null,
   "id": "ff18bdbe-dfbc-468b-92b3-97b930169baa",
   "metadata": {},
   "outputs": [],
   "source": [
    "data.head()"
   ]
  },
  {
   "cell_type": "code",
   "execution_count": null,
   "id": "133db198-e594-44ed-ad7a-fbf9b7567b71",
   "metadata": {},
   "outputs": [],
   "source": [
    "# separate to x and y\n",
    "x_label=data.drop(\"Winner\",axis=1)\n",
    "y_label=data[\"Winner\"]\n",
    "\n",
    "x_label=x_label.values\n",
    "y_laebl=y_label.values"
   ]
  },
  {
   "cell_type": "code",
   "execution_count": null,
   "id": "48e303d1-6c7a-48b2-8574-7130c427141f",
   "metadata": {},
   "outputs": [],
   "source": [
    "# split train/test set\n",
    "from sklearn.model_selection import train_test_split\n",
    "x_train, x_test, y_train, y_test = train_test_split(x_label, y_label, test_size=0.20, random_state=10)"
   ]
  },
  {
   "cell_type": "code",
   "execution_count": null,
   "id": "899b60af-ce45-45f4-872f-5b5d0ff8d19e",
   "metadata": {},
   "outputs": [],
   "source": [
    "from sklearn.preprocessing import MinMaxScaler\n",
    "min_max_scaler = MinMaxScaler()\n",
    "x_train = min_max_scaler.fit_transform(x_train)\n",
    "x_test = min_max_scaler.transform(x_test)"
   ]
  },
  {
   "cell_type": "code",
   "execution_count": null,
   "id": "92dc5444-53b9-4444-98ee-f3b74d276f4a",
   "metadata": {},
   "outputs": [],
   "source": [
    "# For test CV grid search\n",
    "from sklearn.model_selection import GridSearchCV\n",
    "from sklearn.discriminant_analysis import LinearDiscriminantAnalysis\n",
    "from sklearn.metrics import accuracy_score\n",
    "# solver = ['svd','lsqr','eigen']\n",
    "# LDA不需要调参，有解析解\n",
    "solver = ['svd']\n",
    "hyper = {'solver':solver}\n",
    "regressor = LinearDiscriminantAnalysis()\n",
    "gd = GridSearchCV(estimator=regressor,param_grid=hyper,verbose=True,refit=True)\n",
    "#estimator,param_grid, verbose 是GridSearchCV（）的参数，param_grid=hyper负责把先前设置的参数传给RandomForestClassifier()\n",
    "X = x_train\n",
    "y = y_train\n",
    "model = gd.fit(X,y)\n",
    "print(gd.best_score_)#输出最高的准确率\n",
    "print(gd.best_estimator_)#输出最好的学习器，包括一系列参数\n",
    "#得到最优参数后，再重新训练一次"
   ]
  },
  {
   "cell_type": "code",
   "execution_count": null,
   "id": "15b75704-6508-496e-a1f9-7e090954d344",
   "metadata": {},
   "outputs": [],
   "source": [
    "# 得到最优参数之后保存模型在这里写\n",
    "# TODO:记录最优参数的数值，保存模型到一个文件中\n",
    "# TODO：添加几行代码，直接读取模型文件，以便下一步求accuracy\n",
    "# TODO\n",
    "# gd = GridSearchCV(estimator=RandomForestClassifier(random_state=0),param_grid=hyper,verbose=True,refit=True)\n",
    "# refit = True \n",
    "# gd返回最优参数训练的模型存入model中 model = gd.fit(X,y)"
   ]
  },
  {
   "cell_type": "code",
   "execution_count": null,
   "id": "69e28ff6-abef-48e0-a817-df891a247f85",
   "metadata": {},
   "outputs": [],
   "source": [
    "# check on test set\n",
    "pred = model.predict(x_test)\n",
    "print('Accuracy of ', accuracy_score(pred, y_test)*100)"
   ]
  },
  {
   "cell_type": "code",
   "execution_count": null,
   "id": "8132c7f6-36a9-4dfd-8250-be6e26d3564d",
   "metadata": {},
   "outputs": [],
   "source": [
    "# try to predict\n",
    "try_data=pd.read_csv('try.csv')"
   ]
  },
  {
   "cell_type": "code",
   "execution_count": null,
   "id": "c8e12bb9-8943-4a9e-9d9d-dfb1c04c924d",
   "metadata": {},
   "outputs": [],
   "source": [
    "# 此处只是可视化\n",
    "# new_try_data=try_data[[\"First_pokemon\",\"Second_pokemon\"]].replace(pokemon_stat.Name)\n",
    "# new_try_data.head()"
   ]
  },
  {
   "cell_type": "code",
   "execution_count": null,
   "id": "e632c5d7-2775-4ebb-8765-77d2a1c16c28",
   "metadata": {},
   "outputs": [],
   "source": [
    "# final_try_data = preprocess(pokemon_stat, try_data)\n",
    "# pred=model.predict(final_try_data)\n",
    "# try_data[\"Winner\"]=[try_data[\"First_pokemon\"][i] if pred[i]==0 else try_data[\"Second_pokemon\"][i] for i in range(len(pred))]"
   ]
  },
  {
   "cell_type": "code",
   "execution_count": null,
   "id": "2a1a096c-a968-4f32-a4be-e0064ecd453b",
   "metadata": {},
   "outputs": [],
   "source": [
    "# cols = [\"First_pokemon\",\"Second_pokemon\",\"Winner\"]\n",
    "# combats_name = try_data[cols].replace(pokemon_stat.Name)\n",
    "# combats_name[200:208]"
   ]
  },
  {
   "cell_type": "code",
   "execution_count": null,
   "id": "13f92f06-e5c1-4957-8603-f90c4eec73eb",
   "metadata": {},
   "outputs": [],
   "source": []
  }
 ],
 "metadata": {
  "kernelspec": {
   "display_name": "Python 3 (ipykernel)",
   "language": "python",
   "name": "python3"
  },
  "language_info": {
   "codemirror_mode": {
    "name": "ipython",
    "version": 3
   },
   "file_extension": ".py",
   "mimetype": "text/x-python",
   "name": "python",
   "nbconvert_exporter": "python",
   "pygments_lexer": "ipython3",
   "version": "3.9.7"
  }
 },
 "nbformat": 4,
 "nbformat_minor": 5
}
