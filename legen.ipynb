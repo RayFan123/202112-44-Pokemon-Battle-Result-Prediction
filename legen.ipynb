{
 "cells": [
  {
   "cell_type": "code",
   "execution_count": 1,
   "id": "c1f88c1e-4768-420f-b79b-09be88af2b39",
   "metadata": {},
   "outputs": [],
   "source": [
    "%reset -f"
   ]
  },
  {
   "cell_type": "code",
   "execution_count": 2,
   "id": "aa5ecdbe-3134-4ed4-a1b8-06d6fadf401d",
   "metadata": {},
   "outputs": [],
   "source": [
    "import numpy as np\n",
    "import pandas as pd"
   ]
  },
  {
   "cell_type": "code",
   "execution_count": 3,
   "id": "d0a5188f-1626-4229-b17e-9bd4023670dd",
   "metadata": {},
   "outputs": [],
   "source": [
    "data = pd.read_csv(\"pokemon_use.csv\", index_col=0)"
   ]
  },
  {
   "cell_type": "code",
   "execution_count": 4,
   "id": "efce1380-fca1-43cd-8468-65eab9f34438",
   "metadata": {},
   "outputs": [],
   "source": [
    "legend_data = data[data.Legendary==1].copy()\n",
    "not_legend_data = data[data.Legendary==0].copy()"
   ]
  },
  {
   "cell_type": "code",
   "execution_count": 5,
   "id": "bb54fd47-831e-4dd2-a431-54cdf91075a8",
   "metadata": {},
   "outputs": [
    {
     "data": {
      "text/plain": [
       "Index(['Name', 'Type 1', 'Type 2', 'HP', 'Attack', 'Defense', 'Sp. Atk',\n",
       "       'Sp. Def', 'Speed', 'Generation', 'Legendary'],\n",
       "      dtype='object')"
      ]
     },
     "execution_count": 5,
     "metadata": {},
     "output_type": "execute_result"
    }
   ],
   "source": [
    "legend_data.columns"
   ]
  },
  {
   "cell_type": "code",
   "execution_count": 6,
   "id": "afdfb5cb-b38a-498a-bc0e-9f48fd5c6fd2",
   "metadata": {},
   "outputs": [],
   "source": [
    "legend_data_describe = pd.DataFrame([legend_data['HP'].describe(),legend_data['Attack'].describe(),legend_data['Defense'].describe(),legend_data['Sp. Atk'].describe(),\n",
    "legend_data['Sp. Def'].describe(),legend_data['Speed'].describe()])"
   ]
  },
  {
   "cell_type": "code",
   "execution_count": 7,
   "id": "6396e00f-ce0a-4f35-9043-98f442cd2a6e",
   "metadata": {},
   "outputs": [],
   "source": [
    "not_legend_data_describe = pd.DataFrame([not_legend_data['HP'].describe(),not_legend_data['Attack'].describe(),not_legend_data['Defense'].describe(),not_legend_data['Sp. Atk'].describe(),\n",
    "not_legend_data['Sp. Def'].describe(),not_legend_data['Speed'].describe()])"
   ]
  },
  {
   "cell_type": "markdown",
   "id": "93a4504f-56fc-41de-a4b9-599107e5b182",
   "metadata": {},
   "source": [
    "# 传奇的属性"
   ]
  },
  {
   "cell_type": "code",
   "execution_count": 8,
   "id": "f6de7756-5119-4952-8e78-486d8282d792",
   "metadata": {},
   "outputs": [
    {
     "data": {
      "text/html": [
       "<div>\n",
       "<style scoped>\n",
       "    .dataframe tbody tr th:only-of-type {\n",
       "        vertical-align: middle;\n",
       "    }\n",
       "\n",
       "    .dataframe tbody tr th {\n",
       "        vertical-align: top;\n",
       "    }\n",
       "\n",
       "    .dataframe thead th {\n",
       "        text-align: right;\n",
       "    }\n",
       "</style>\n",
       "<table border=\"1\" class=\"dataframe\">\n",
       "  <thead>\n",
       "    <tr style=\"text-align: right;\">\n",
       "      <th></th>\n",
       "      <th>count</th>\n",
       "      <th>mean</th>\n",
       "      <th>std</th>\n",
       "      <th>min</th>\n",
       "      <th>25%</th>\n",
       "      <th>50%</th>\n",
       "      <th>75%</th>\n",
       "      <th>max</th>\n",
       "    </tr>\n",
       "  </thead>\n",
       "  <tbody>\n",
       "    <tr>\n",
       "      <th>HP</th>\n",
       "      <td>65.0</td>\n",
       "      <td>92.738462</td>\n",
       "      <td>21.722164</td>\n",
       "      <td>50.0</td>\n",
       "      <td>80.0</td>\n",
       "      <td>91.0</td>\n",
       "      <td>105.0</td>\n",
       "      <td>150.0</td>\n",
       "    </tr>\n",
       "    <tr>\n",
       "      <th>Attack</th>\n",
       "      <td>65.0</td>\n",
       "      <td>116.676923</td>\n",
       "      <td>30.348037</td>\n",
       "      <td>50.0</td>\n",
       "      <td>100.0</td>\n",
       "      <td>110.0</td>\n",
       "      <td>131.0</td>\n",
       "      <td>190.0</td>\n",
       "    </tr>\n",
       "    <tr>\n",
       "      <th>Defense</th>\n",
       "      <td>65.0</td>\n",
       "      <td>99.661538</td>\n",
       "      <td>28.255131</td>\n",
       "      <td>20.0</td>\n",
       "      <td>90.0</td>\n",
       "      <td>100.0</td>\n",
       "      <td>115.0</td>\n",
       "      <td>200.0</td>\n",
       "    </tr>\n",
       "    <tr>\n",
       "      <th>Sp. Atk</th>\n",
       "      <td>65.0</td>\n",
       "      <td>122.184615</td>\n",
       "      <td>31.104608</td>\n",
       "      <td>50.0</td>\n",
       "      <td>100.0</td>\n",
       "      <td>120.0</td>\n",
       "      <td>150.0</td>\n",
       "      <td>194.0</td>\n",
       "    </tr>\n",
       "    <tr>\n",
       "      <th>Sp. Def</th>\n",
       "      <td>65.0</td>\n",
       "      <td>105.938462</td>\n",
       "      <td>28.827004</td>\n",
       "      <td>20.0</td>\n",
       "      <td>90.0</td>\n",
       "      <td>100.0</td>\n",
       "      <td>120.0</td>\n",
       "      <td>200.0</td>\n",
       "    </tr>\n",
       "    <tr>\n",
       "      <th>Speed</th>\n",
       "      <td>65.0</td>\n",
       "      <td>100.184615</td>\n",
       "      <td>22.952323</td>\n",
       "      <td>50.0</td>\n",
       "      <td>90.0</td>\n",
       "      <td>100.0</td>\n",
       "      <td>110.0</td>\n",
       "      <td>180.0</td>\n",
       "    </tr>\n",
       "  </tbody>\n",
       "</table>\n",
       "</div>"
      ],
      "text/plain": [
       "         count        mean        std   min    25%    50%    75%    max\n",
       "HP        65.0   92.738462  21.722164  50.0   80.0   91.0  105.0  150.0\n",
       "Attack    65.0  116.676923  30.348037  50.0  100.0  110.0  131.0  190.0\n",
       "Defense   65.0   99.661538  28.255131  20.0   90.0  100.0  115.0  200.0\n",
       "Sp. Atk   65.0  122.184615  31.104608  50.0  100.0  120.0  150.0  194.0\n",
       "Sp. Def   65.0  105.938462  28.827004  20.0   90.0  100.0  120.0  200.0\n",
       "Speed     65.0  100.184615  22.952323  50.0   90.0  100.0  110.0  180.0"
      ]
     },
     "execution_count": 8,
     "metadata": {},
     "output_type": "execute_result"
    }
   ],
   "source": [
    "legend_data_describe"
   ]
  },
  {
   "cell_type": "code",
   "execution_count": 9,
   "id": "f93a25be-133d-4cd9-8125-cc4f0ecf743f",
   "metadata": {},
   "outputs": [],
   "source": [
    "legend_data['sum of values']=legend_data[['HP', 'Attack', 'Defense', 'Sp. Atk',\n",
    "       'Sp. Def', 'Speed']].sum(axis=1)"
   ]
  },
  {
   "cell_type": "code",
   "execution_count": 10,
   "id": "46e53efb-82d6-49d8-b74e-01f79d1b6256",
   "metadata": {},
   "outputs": [
    {
     "data": {
      "text/plain": [
       "count     65.000000\n",
       "mean     637.384615\n",
       "std       60.937389\n",
       "min      580.000000\n",
       "25%      580.000000\n",
       "50%      600.000000\n",
       "75%      680.000000\n",
       "max      780.000000\n",
       "Name: sum of values, dtype: float64"
      ]
     },
     "execution_count": 10,
     "metadata": {},
     "output_type": "execute_result"
    }
   ],
   "source": [
    "legend_data['sum of values'].describe()"
   ]
  },
  {
   "cell_type": "markdown",
   "id": "a1da6488-752a-48fa-8c40-cce6d1da308b",
   "metadata": {},
   "source": [
    "# 非传奇的属性"
   ]
  },
  {
   "cell_type": "code",
   "execution_count": 11,
   "id": "2188d812-53ef-48a8-97da-127457c0dba5",
   "metadata": {},
   "outputs": [
    {
     "data": {
      "text/html": [
       "<div>\n",
       "<style scoped>\n",
       "    .dataframe tbody tr th:only-of-type {\n",
       "        vertical-align: middle;\n",
       "    }\n",
       "\n",
       "    .dataframe tbody tr th {\n",
       "        vertical-align: top;\n",
       "    }\n",
       "\n",
       "    .dataframe thead th {\n",
       "        text-align: right;\n",
       "    }\n",
       "</style>\n",
       "<table border=\"1\" class=\"dataframe\">\n",
       "  <thead>\n",
       "    <tr style=\"text-align: right;\">\n",
       "      <th></th>\n",
       "      <th>count</th>\n",
       "      <th>mean</th>\n",
       "      <th>std</th>\n",
       "      <th>min</th>\n",
       "      <th>25%</th>\n",
       "      <th>50%</th>\n",
       "      <th>75%</th>\n",
       "      <th>max</th>\n",
       "    </tr>\n",
       "  </thead>\n",
       "  <tbody>\n",
       "    <tr>\n",
       "      <th>HP</th>\n",
       "      <td>735.0</td>\n",
       "      <td>67.182313</td>\n",
       "      <td>24.808849</td>\n",
       "      <td>1.0</td>\n",
       "      <td>50.0</td>\n",
       "      <td>65.0</td>\n",
       "      <td>79.5</td>\n",
       "      <td>255.0</td>\n",
       "    </tr>\n",
       "    <tr>\n",
       "      <th>Attack</th>\n",
       "      <td>735.0</td>\n",
       "      <td>75.669388</td>\n",
       "      <td>30.490153</td>\n",
       "      <td>5.0</td>\n",
       "      <td>54.5</td>\n",
       "      <td>72.0</td>\n",
       "      <td>95.0</td>\n",
       "      <td>185.0</td>\n",
       "    </tr>\n",
       "    <tr>\n",
       "      <th>Defense</th>\n",
       "      <td>735.0</td>\n",
       "      <td>71.559184</td>\n",
       "      <td>30.408194</td>\n",
       "      <td>5.0</td>\n",
       "      <td>50.0</td>\n",
       "      <td>66.0</td>\n",
       "      <td>85.0</td>\n",
       "      <td>230.0</td>\n",
       "    </tr>\n",
       "    <tr>\n",
       "      <th>Sp. Atk</th>\n",
       "      <td>735.0</td>\n",
       "      <td>68.454422</td>\n",
       "      <td>29.091705</td>\n",
       "      <td>10.0</td>\n",
       "      <td>45.0</td>\n",
       "      <td>65.0</td>\n",
       "      <td>85.0</td>\n",
       "      <td>175.0</td>\n",
       "    </tr>\n",
       "    <tr>\n",
       "      <th>Sp. Def</th>\n",
       "      <td>735.0</td>\n",
       "      <td>68.892517</td>\n",
       "      <td>25.669310</td>\n",
       "      <td>20.0</td>\n",
       "      <td>50.0</td>\n",
       "      <td>65.0</td>\n",
       "      <td>85.0</td>\n",
       "      <td>230.0</td>\n",
       "    </tr>\n",
       "    <tr>\n",
       "      <th>Speed</th>\n",
       "      <td>735.0</td>\n",
       "      <td>65.455782</td>\n",
       "      <td>27.843038</td>\n",
       "      <td>5.0</td>\n",
       "      <td>45.0</td>\n",
       "      <td>64.0</td>\n",
       "      <td>85.0</td>\n",
       "      <td>160.0</td>\n",
       "    </tr>\n",
       "  </tbody>\n",
       "</table>\n",
       "</div>"
      ],
      "text/plain": [
       "         count       mean        std   min   25%   50%   75%    max\n",
       "HP       735.0  67.182313  24.808849   1.0  50.0  65.0  79.5  255.0\n",
       "Attack   735.0  75.669388  30.490153   5.0  54.5  72.0  95.0  185.0\n",
       "Defense  735.0  71.559184  30.408194   5.0  50.0  66.0  85.0  230.0\n",
       "Sp. Atk  735.0  68.454422  29.091705  10.0  45.0  65.0  85.0  175.0\n",
       "Sp. Def  735.0  68.892517  25.669310  20.0  50.0  65.0  85.0  230.0\n",
       "Speed    735.0  65.455782  27.843038   5.0  45.0  64.0  85.0  160.0"
      ]
     },
     "execution_count": 11,
     "metadata": {},
     "output_type": "execute_result"
    }
   ],
   "source": [
    "not_legend_data_describe"
   ]
  },
  {
   "cell_type": "code",
   "execution_count": 12,
   "id": "8b35f896-0c65-4e8d-aab5-a791348a1dac",
   "metadata": {},
   "outputs": [],
   "source": [
    "not_legend_data['sum of values']=not_legend_data[['HP', 'Attack', 'Defense', 'Sp. Atk',\n",
    "       'Sp. Def', 'Speed']].sum(axis=1)"
   ]
  },
  {
   "cell_type": "code",
   "execution_count": 13,
   "id": "90cac8da-c0b3-4de6-95ae-e18b5087250c",
   "metadata": {},
   "outputs": [
    {
     "data": {
      "text/plain": [
       "count    735.000000\n",
       "mean     417.213605\n",
       "std      106.760417\n",
       "min      180.000000\n",
       "25%      324.000000\n",
       "50%      425.000000\n",
       "75%      498.000000\n",
       "max      700.000000\n",
       "Name: sum of values, dtype: float64"
      ]
     },
     "execution_count": 13,
     "metadata": {},
     "output_type": "execute_result"
    }
   ],
   "source": [
    "not_legend_data['sum of values'].describe()"
   ]
  },
  {
   "cell_type": "code",
   "execution_count": null,
   "id": "21112531-2bbf-4fe8-8b45-4abfee1afa8d",
   "metadata": {},
   "outputs": [],
   "source": []
  }
 ],
 "metadata": {
  "kernelspec": {
   "display_name": "Python 3 (ipykernel)",
   "language": "python",
   "name": "python3"
  },
  "language_info": {
   "codemirror_mode": {
    "name": "ipython",
    "version": 3
   },
   "file_extension": ".py",
   "mimetype": "text/x-python",
   "name": "python",
   "nbconvert_exporter": "python",
   "pygments_lexer": "ipython3",
   "version": "3.9.7"
  }
 },
 "nbformat": 4,
 "nbformat_minor": 5
}
